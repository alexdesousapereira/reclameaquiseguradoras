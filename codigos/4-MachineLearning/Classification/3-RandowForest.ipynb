{
 "cells": [
  {
   "cell_type": "markdown",
   "id": "71f6059c",
   "metadata": {},
   "source": [
    "# Pacotes"
   ]
  },
  {
   "cell_type": "code",
   "execution_count": 4,
   "id": "ddde267b-d417-4739-b777-e4d4319a8c9f",
   "metadata": {},
   "outputs": [],
   "source": [
    "\n",
    "# Conection Data\n",
    "from google.cloud import bigquery # conexão banco de dados\n",
    "from google.oauth2 import service_account # conexão banco de dados\n",
    "from pandas.io import gbq # conexão banco de dados\n",
    "\n",
    "# Tratament Data\n",
    "import pandas as pd  # biblioteca para trabalhar com dataframes e realizar ETL\n",
    "import numpy as np  # biblioteca para trabalhar com arrays\n",
    "import statsmodels.api as sm  # biblioteca para explorar, estimar e testar dados e modelos estatísticos \n",
    "from datetime import date, timedelta, datetime  # biblioteca para trabalhar com datas\n",
    "from dateutil.relativedelta import relativedelta  # biblioteca de extensão do datetime\n",
    "from scipy import stats  # biblioteca de computação científica\n",
    "from pandas import DataFrame \n",
    "\n",
    "# Graphics\n",
    "import matplotlib.pyplot as plt  #biblioteca para criar gráficos \"comuns\" ao estilo Matlab.\n",
    "import seaborn as sns\n",
    "from mlxtend.plotting import plot_confusion_matrix\n",
    "\n",
    "# Tratament Models\n",
    "from statsmodels.stats.outliers_influence import variance_inflation_factor\n",
    "from sklearn.model_selection import train_test_split\n",
    "from sklearn.preprocessing import StandardScaler\n",
    "from imblearn.over_sampling import SMOTE\n",
    "\n",
    "# Models Machine Learnig\n",
    "from sklearn.linear_model import LogisticRegression  # Regressão Logit do sklearn\n",
    "from sklearn.tree import DecisionTreeClassifier\n",
    "from sklearn.svm import SVC\n",
    "from sklearn.linear_model import LogisticRegression\n",
    "from sklearn.ensemble import RandomForestClassifier\n",
    "from xgboost import XGBClassifier\n",
    "\n",
    "# Metrics Models\n",
    "from sklearn import metrics\n",
    "from sklearn.metrics import roc_auc_score\n",
    "from sklearn.metrics import roc_curve\n",
    "from sklearn.metrics import classification_report\n",
    "from sklearn.metrics import confusion_matrix\n",
    "from sklearn.feature_selection import SelectFromModel\n",
    "\n",
    "# Pipeline Model\n",
    "from sklearn.pipeline import Pipeline, make_pipeline\n",
    "\n",
    "# Hyperparameter tuning\n",
    "from sklearn.model_selection import StratifiedKFold, cross_val_score, GridSearchCV, RandomizedSearchCV"
   ]
  },
  {
   "cell_type": "markdown",
   "id": "75f832e2-5ea5-4e23-ab7a-e851c34c3779",
   "metadata": {
    "tags": []
   },
   "source": [
    "# Load Dataset"
   ]
  },
  {
   "cell_type": "code",
   "execution_count": 5,
   "id": "2f85858c",
   "metadata": {},
   "outputs": [],
   "source": [
    "# Credenciais Google Cloud\n",
    "\n",
    "credentials = service_account.Credentials.from_service_account_file(filename='/home/oem/apps/crendentials/ContaServicoBigQuery.json', \n",
    "                                                                    scopes=[\"https://www.googleapis.com/auth/cloud-platform\"])\n",
    "client = bigquery.Client(credentials=credentials)\n",
    "# Query SQL\n",
    "sql = \"\"\"\n",
    "SELECT\n",
    "  CASE\n",
    "    WHEN ra.nota < 4 THEN \"Negativo\"\n",
    "    WHEN ra.nota  >= 7 THEN \"Positivo\"\n",
    "    END AS sentimento,\n",
    "  ra.tempo_reclamacao,\n",
    "  ra.status,\n",
    "  REGEXP_CONTAINS(ra.titulo, r'Seguro|seguro|Seguros|seguros|Sinistro|sinistro|Sinitros|sinistros|Carro|carro|Carros|Carro|Proteção|proteção|Proteções|proteções|Atendimento|atendimento|Atendimentos|atendimentos') AS token_positivo,\n",
    "  REGEXP_CONTAINS(ra.titulo, r'Seguro|seguro|Seguros|seguros|Prestamista|prestamista|Prestamistas|prestamistas|Sinistro|sinistro|Sinitros|sinistros|Cancelamento|cancelamento|Cancelamentos|cancelamento|Reembolso|reembolso|Reembolsos|reembolsos') AS token_negativo\n",
    "FROM `braided-upgrade-355410.ReclameAquiStage.reclamacoes` as ra\n",
    "WHERE ra.nota > 7 OR ra.nota < 4 \n",
    "\"\"\"\n"
   ]
  },
  {
   "cell_type": "code",
   "execution_count": 6,
   "id": "db217731",
   "metadata": {},
   "outputs": [],
   "source": [
    "# carrega dataset\n",
    "dataset = client.query(sql).to_dataframe()"
   ]
  },
  {
   "cell_type": "code",
   "execution_count": 7,
   "id": "c4ed9f0b",
   "metadata": {},
   "outputs": [],
   "source": [
    "# copy\n",
    "\n",
    "df = dataset.copy()"
   ]
  },
  {
   "cell_type": "code",
   "execution_count": 9,
   "id": "3527de33",
   "metadata": {},
   "outputs": [
    {
     "data": {
      "text/html": [
       "<div>\n",
       "<style scoped>\n",
       "    .dataframe tbody tr th:only-of-type {\n",
       "        vertical-align: middle;\n",
       "    }\n",
       "\n",
       "    .dataframe tbody tr th {\n",
       "        vertical-align: top;\n",
       "    }\n",
       "\n",
       "    .dataframe thead th {\n",
       "        text-align: right;\n",
       "    }\n",
       "</style>\n",
       "<table border=\"1\" class=\"dataframe\">\n",
       "  <thead>\n",
       "    <tr style=\"text-align: right;\">\n",
       "      <th></th>\n",
       "      <th>sentimento</th>\n",
       "      <th>tempo_reclamacao</th>\n",
       "      <th>status</th>\n",
       "      <th>token_positivo</th>\n",
       "      <th>token_negativo</th>\n",
       "    </tr>\n",
       "  </thead>\n",
       "  <tbody>\n",
       "    <tr>\n",
       "      <th>0</th>\n",
       "      <td>Negativo</td>\n",
       "      <td>4</td>\n",
       "      <td>Não resolvido</td>\n",
       "      <td>False</td>\n",
       "      <td>False</td>\n",
       "    </tr>\n",
       "    <tr>\n",
       "      <th>1</th>\n",
       "      <td>Negativo</td>\n",
       "      <td>13</td>\n",
       "      <td>Não resolvido</td>\n",
       "      <td>False</td>\n",
       "      <td>True</td>\n",
       "    </tr>\n",
       "    <tr>\n",
       "      <th>2</th>\n",
       "      <td>Negativo</td>\n",
       "      <td>15</td>\n",
       "      <td>Não resolvido</td>\n",
       "      <td>True</td>\n",
       "      <td>True</td>\n",
       "    </tr>\n",
       "    <tr>\n",
       "      <th>3</th>\n",
       "      <td>Negativo</td>\n",
       "      <td>15</td>\n",
       "      <td>Não resolvido</td>\n",
       "      <td>False</td>\n",
       "      <td>False</td>\n",
       "    </tr>\n",
       "    <tr>\n",
       "      <th>4</th>\n",
       "      <td>Negativo</td>\n",
       "      <td>16</td>\n",
       "      <td>Resolvido</td>\n",
       "      <td>False</td>\n",
       "      <td>False</td>\n",
       "    </tr>\n",
       "  </tbody>\n",
       "</table>\n",
       "</div>"
      ],
      "text/plain": [
       "  sentimento  tempo_reclamacao         status  token_positivo  token_negativo\n",
       "0   Negativo                 4  Não resolvido           False           False\n",
       "1   Negativo                13  Não resolvido           False            True\n",
       "2   Negativo                15  Não resolvido            True            True\n",
       "3   Negativo                15  Não resolvido           False           False\n",
       "4   Negativo                16      Resolvido           False           False"
      ]
     },
     "execution_count": 9,
     "metadata": {},
     "output_type": "execute_result"
    }
   ],
   "source": [
    "# verificando o dataset\n",
    "\n",
    "df.head()"
   ]
  },
  {
   "cell_type": "code",
   "execution_count": 7,
   "id": "52eb8bbe",
   "metadata": {},
   "outputs": [
    {
     "name": "stdout",
     "output_type": "stream",
     "text": [
      "Amostras e Features (1418, 5)\n",
      "Columns:  sentimento           object\n",
      "tempo_reclamacao      Int64\n",
      "status               object\n",
      "token_positivo      boolean\n",
      "token_negativo      boolean\n",
      "dtype: object\n"
     ]
    }
   ],
   "source": [
    "print('Amostras e Features', df.shape)\n",
    "print('Columns: ', df.dtypes)"
   ]
  },
  {
   "cell_type": "markdown",
   "id": "584022ed",
   "metadata": {},
   "source": [
    "# Removendo Outliers"
   ]
  },
  {
   "cell_type": "code",
   "execution_count": 10,
   "id": "430faa21",
   "metadata": {},
   "outputs": [
    {
     "data": {
      "image/png": "[encoded data removed]",
      "text/plain": [
       "<Figure size 640x480 with 1 Axes>"
      ]
     },
     "metadata": {},
     "output_type": "display_data"
    }
   ],
   "source": [
    "#verificando se existem outliers (anomalias) usando o boxblot\n",
    "\n",
    "boxplot = df.boxplot(column=['tempo_reclamacao'])"
   ]
  },
  {
   "cell_type": "code",
   "execution_count": 11,
   "id": "bdcac533",
   "metadata": {},
   "outputs": [],
   "source": [
    "def remove_outliers(columns: list, qtd_desvios: int, df: DataFrame) -> DataFrame:\n",
    "    \n",
    "    for column in columns:\n",
    "        \n",
    "        quartil_01 = df[column].quantile(q=0.25)\n",
    "        quartil_03 = df[column].quantile(q=0.75)\n",
    "        amplitude = quartil_03 - quartil_01\n",
    "        \n",
    "        print(f'''\n",
    "        Coluna: {column}\n",
    "        Tamanho Inicial: {df.shape[0]}\n",
    "        ''')\n",
    "        \n",
    "        # df = df.loc[~df.index.isin(list(result[0]))]\n",
    "        \n",
    "        df = df.loc[\n",
    "            (df[column] > (quartil_01 - 1.5 * amplitude)) &\n",
    "            (df[column] < (quartil_03 + 1.5 * amplitude))\n",
    "        ]\n",
    "        \n",
    "        print(f'''\n",
    "        Tamanho Final: {df.shape[0]}\n",
    "        ##########################################\n",
    "        ''')\n",
    "        \n",
    "    return df"
   ]
  },
  {
   "cell_type": "code",
   "execution_count": 12,
   "id": "6d53d5b5",
   "metadata": {},
   "outputs": [
    {
     "name": "stdout",
     "output_type": "stream",
     "text": [
      "\n",
      "        Coluna: tempo_reclamacao\n",
      "        Tamanho Inicial: 1418\n",
      "        \n",
      "\n",
      "        Tamanho Final: 1379\n",
      "        ##########################################\n",
      "        \n"
     ]
    }
   ],
   "source": [
    "df2 = remove_outliers(['tempo_reclamacao'], 1, df)"
   ]
  },
  {
   "cell_type": "markdown",
   "id": "ac76e709-da29-4397-b34c-9f14e38c8bd3",
   "metadata": {
    "tags": []
   },
   "source": [
    "# Dummies\n",
    "\n",
    "Para a transformão iremos utilizar dois metódos:\n",
    "\n",
    "dummy: transformar uma variavel categorica com valores 0 e 1.\n",
    "\n",
    "combinação de recursos: na combinação de recursos pegaremos duas variavies categóricas semelhante e combinaremos em uma única variável.\n"
   ]
  },
  {
   "cell_type": "code",
   "execution_count": 13,
   "id": "e2afff73",
   "metadata": {},
   "outputs": [],
   "source": [
    "df3 = df2.copy()"
   ]
  },
  {
   "cell_type": "code",
   "execution_count": 14,
   "id": "70bb3c00",
   "metadata": {},
   "outputs": [],
   "source": [
    "df3['sentimento'].replace({'Positivo':'1',\n",
    "                            'Negativo':'0'},inplace=True)"
   ]
  },
  {
   "cell_type": "code",
   "execution_count": 15,
   "id": "7d8eb811",
   "metadata": {},
   "outputs": [
    {
     "data": {
      "text/html": [
       "<div>\n",
       "<style scoped>\n",
       "    .dataframe tbody tr th:only-of-type {\n",
       "        vertical-align: middle;\n",
       "    }\n",
       "\n",
       "    .dataframe tbody tr th {\n",
       "        vertical-align: top;\n",
       "    }\n",
       "\n",
       "    .dataframe thead th {\n",
       "        text-align: right;\n",
       "    }\n",
       "</style>\n",
       "<table border=\"1\" class=\"dataframe\">\n",
       "  <thead>\n",
       "    <tr style=\"text-align: right;\">\n",
       "      <th></th>\n",
       "      <th>tempo_reclamacao</th>\n",
       "      <th>status</th>\n",
       "      <th>token_positivo</th>\n",
       "      <th>token_negativo</th>\n",
       "    </tr>\n",
       "    <tr>\n",
       "      <th>sentimento</th>\n",
       "      <th></th>\n",
       "      <th></th>\n",
       "      <th></th>\n",
       "      <th></th>\n",
       "    </tr>\n",
       "  </thead>\n",
       "  <tbody>\n",
       "    <tr>\n",
       "      <th>0</th>\n",
       "      <td>967</td>\n",
       "      <td>967</td>\n",
       "      <td>967</td>\n",
       "      <td>967</td>\n",
       "    </tr>\n",
       "    <tr>\n",
       "      <th>1</th>\n",
       "      <td>412</td>\n",
       "      <td>412</td>\n",
       "      <td>412</td>\n",
       "      <td>412</td>\n",
       "    </tr>\n",
       "  </tbody>\n",
       "</table>\n",
       "</div>"
      ],
      "text/plain": [
       "            tempo_reclamacao  status  token_positivo  token_negativo\n",
       "sentimento                                                          \n",
       "0                        967     967             967             967\n",
       "1                        412     412             412             412"
      ]
     },
     "execution_count": 15,
     "metadata": {},
     "output_type": "execute_result"
    }
   ],
   "source": [
    "df3.groupby(by=['sentimento']).count()"
   ]
  },
  {
   "cell_type": "code",
   "execution_count": 16,
   "id": "bba542d8",
   "metadata": {},
   "outputs": [],
   "source": [
    "df3['sentimento'] = df3['sentimento'].astype(int)"
   ]
  },
  {
   "cell_type": "code",
   "execution_count": 17,
   "id": "9dea92fe",
   "metadata": {},
   "outputs": [],
   "source": [
    "df3['status'].replace({'Resolvido':'1',\n",
    "                            'Não resolvido':'0'},inplace=True)"
   ]
  },
  {
   "cell_type": "code",
   "execution_count": 18,
   "id": "51fd49c6",
   "metadata": {},
   "outputs": [
    {
     "data": {
      "text/html": [
       "<div>\n",
       "<style scoped>\n",
       "    .dataframe tbody tr th:only-of-type {\n",
       "        vertical-align: middle;\n",
       "    }\n",
       "\n",
       "    .dataframe tbody tr th {\n",
       "        vertical-align: top;\n",
       "    }\n",
       "\n",
       "    .dataframe thead th {\n",
       "        text-align: right;\n",
       "    }\n",
       "</style>\n",
       "<table border=\"1\" class=\"dataframe\">\n",
       "  <thead>\n",
       "    <tr style=\"text-align: right;\">\n",
       "      <th></th>\n",
       "      <th>sentimento</th>\n",
       "      <th>tempo_reclamacao</th>\n",
       "      <th>token_positivo</th>\n",
       "      <th>token_negativo</th>\n",
       "    </tr>\n",
       "    <tr>\n",
       "      <th>status</th>\n",
       "      <th></th>\n",
       "      <th></th>\n",
       "      <th></th>\n",
       "      <th></th>\n",
       "    </tr>\n",
       "  </thead>\n",
       "  <tbody>\n",
       "    <tr>\n",
       "      <th>0</th>\n",
       "      <td>679</td>\n",
       "      <td>679</td>\n",
       "      <td>679</td>\n",
       "      <td>679</td>\n",
       "    </tr>\n",
       "    <tr>\n",
       "      <th>1</th>\n",
       "      <td>700</td>\n",
       "      <td>700</td>\n",
       "      <td>700</td>\n",
       "      <td>700</td>\n",
       "    </tr>\n",
       "  </tbody>\n",
       "</table>\n",
       "</div>"
      ],
      "text/plain": [
       "        sentimento  tempo_reclamacao  token_positivo  token_negativo\n",
       "status                                                              \n",
       "0              679               679             679             679\n",
       "1              700               700             700             700"
      ]
     },
     "execution_count": 18,
     "metadata": {},
     "output_type": "execute_result"
    }
   ],
   "source": [
    "df3.groupby(by=['status']).count()"
   ]
  },
  {
   "cell_type": "code",
   "execution_count": 19,
   "id": "96112753",
   "metadata": {},
   "outputs": [],
   "source": [
    "df3['status'] = df3['status'].astype(int)"
   ]
  },
  {
   "cell_type": "markdown",
   "id": "065ea60b",
   "metadata": {},
   "source": [
    "# Analisando a multicolinearidade"
   ]
  },
  {
   "cell_type": "code",
   "execution_count": 20,
   "id": "0b147e5d",
   "metadata": {},
   "outputs": [
    {
     "data": {
      "text/plain": [
       "sentimento            int64\n",
       "tempo_reclamacao      Int64\n",
       "status                int64\n",
       "token_positivo      boolean\n",
       "token_negativo      boolean\n",
       "dtype: object"
      ]
     },
     "execution_count": 20,
     "metadata": {},
     "output_type": "execute_result"
    }
   ],
   "source": [
    "df3.dtypes"
   ]
  },
  {
   "cell_type": "code",
   "execution_count": 21,
   "id": "cf178421",
   "metadata": {},
   "outputs": [
    {
     "name": "stdout",
     "output_type": "stream",
     "text": [
      "                var       VIF\n",
      "0        sentimento  2.389501\n",
      "1  tempo_reclamacao  1.646036\n",
      "2            status  2.974743\n",
      "3    token_positivo  2.724090\n",
      "4    token_negativo  2.754431\n"
     ]
    }
   ],
   "source": [
    "# verificando multicolinearidade\n",
    "# VIF \n",
    "vif_df = pd.DataFrame() \n",
    "vif_df['var'] = df3.columns\n",
    "\n",
    "# Calculando o VIF para cada variável\n",
    "\n",
    "vif_df[\"VIF\"] = [variance_inflation_factor(np.array(df3.values, dtype=float), i) \n",
    "                          for i in range(len(df3.columns))] \n",
    "\n",
    "print(vif_df)"
   ]
  },
  {
   "cell_type": "code",
   "execution_count": 22,
   "id": "28a41934",
   "metadata": {},
   "outputs": [],
   "source": [
    "df4 = df3.copy()"
   ]
  },
  {
   "attachments": {},
   "cell_type": "markdown",
   "id": "1a870074",
   "metadata": {},
   "source": [
    "# Correlação"
   ]
  },
  {
   "cell_type": "code",
   "execution_count": 23,
   "id": "b487f3ab",
   "metadata": {},
   "outputs": [
    {
     "data": {
      "image/png": "[encoded data removed]",
      "text/plain": [
       "<Figure size 1200x900 with 2 Axes>"
      ]
     },
     "metadata": {},
     "output_type": "display_data"
    }
   ],
   "source": [
    "\n",
    "import matplotlib.pyplot as plt\n",
    "\n",
    "\n",
    "plt.figure(figsize=(12,9))\n",
    "corr = df4.corr()\n",
    "mask = np.zeros_like(corr)\n",
    "mask[np.triu_indices_from(mask)] = True\n",
    "ax = sns.heatmap(\n",
    "    corr,\n",
    "    annot=True,\n",
    "    vmin=-1, vmax=1, center=0,\n",
    "    cmap='coolwarm',\n",
    "    square=True,\n",
    "    mask = mask,\n",
    "    linewidths=.5\n",
    ")\n",
    "ax.set_xticklabels(\n",
    "    ax.get_xticklabels(),\n",
    "    rotation=45,\n",
    "    horizontalalignment='right'\n",
    ");\n",
    "plt.show()"
   ]
  },
  {
   "cell_type": "markdown",
   "id": "aca10327-5d93-453f-9406-9c1682360ddb",
   "metadata": {},
   "source": [
    "# Splitting the dataset into the Training set and Test set"
   ]
  },
  {
   "cell_type": "code",
   "execution_count": 24,
   "id": "0504367f-ae27-4e30-b4a8-6f6b37bef379",
   "metadata": {},
   "outputs": [],
   "source": [
    "# separando os dados em treino e teste\n",
    "X = df4.loc[:, df4.columns != 'sentimento']\n",
    "y = df4.loc[:, df4.columns == 'sentimento']\n",
    "\n",
    "X_train, X_test, y_train, y_test = train_test_split(X, y, test_size = 0.25, random_state = 0)\n",
    "\n",
    "# salvando as variaveis xn\n",
    "columns = X_train.columns"
   ]
  },
  {
   "cell_type": "code",
   "execution_count": 25,
   "id": "5ae3c0f9",
   "metadata": {},
   "outputs": [],
   "source": [
    "X_train = X_train.astype(int, errors='ignore')"
   ]
  },
  {
   "cell_type": "code",
   "execution_count": 26,
   "id": "d5fb7fb9",
   "metadata": {},
   "outputs": [
    {
     "data": {
      "text/html": [
       "<div>\n",
       "<style scoped>\n",
       "    .dataframe tbody tr th:only-of-type {\n",
       "        vertical-align: middle;\n",
       "    }\n",
       "\n",
       "    .dataframe tbody tr th {\n",
       "        vertical-align: top;\n",
       "    }\n",
       "\n",
       "    .dataframe thead th {\n",
       "        text-align: right;\n",
       "    }\n",
       "</style>\n",
       "<table border=\"1\" class=\"dataframe\">\n",
       "  <thead>\n",
       "    <tr style=\"text-align: right;\">\n",
       "      <th></th>\n",
       "      <th>tempo_reclamacao</th>\n",
       "      <th>status</th>\n",
       "      <th>token_positivo</th>\n",
       "      <th>token_negativo</th>\n",
       "    </tr>\n",
       "  </thead>\n",
       "  <tbody>\n",
       "    <tr>\n",
       "      <th>611</th>\n",
       "      <td>17</td>\n",
       "      <td>0</td>\n",
       "      <td>0</td>\n",
       "      <td>1</td>\n",
       "    </tr>\n",
       "    <tr>\n",
       "      <th>447</th>\n",
       "      <td>43</td>\n",
       "      <td>0</td>\n",
       "      <td>0</td>\n",
       "      <td>0</td>\n",
       "    </tr>\n",
       "    <tr>\n",
       "      <th>964</th>\n",
       "      <td>58</td>\n",
       "      <td>0</td>\n",
       "      <td>1</td>\n",
       "      <td>1</td>\n",
       "    </tr>\n",
       "    <tr>\n",
       "      <th>338</th>\n",
       "      <td>4</td>\n",
       "      <td>1</td>\n",
       "      <td>0</td>\n",
       "      <td>0</td>\n",
       "    </tr>\n",
       "    <tr>\n",
       "      <th>1401</th>\n",
       "      <td>44</td>\n",
       "      <td>1</td>\n",
       "      <td>0</td>\n",
       "      <td>0</td>\n",
       "    </tr>\n",
       "  </tbody>\n",
       "</table>\n",
       "</div>"
      ],
      "text/plain": [
       "      tempo_reclamacao  status  token_positivo  token_negativo\n",
       "611                 17       0               0               1\n",
       "447                 43       0               0               0\n",
       "964                 58       0               1               1\n",
       "338                  4       1               0               0\n",
       "1401                44       1               0               0"
      ]
     },
     "execution_count": 26,
     "metadata": {},
     "output_type": "execute_result"
    }
   ],
   "source": [
    "X_train.head()"
   ]
  },
  {
   "cell_type": "code",
   "execution_count": 27,
   "id": "b755dee0",
   "metadata": {},
   "outputs": [],
   "source": [
    "y_train =  y_train.astype(int, errors='ignore')"
   ]
  },
  {
   "cell_type": "code",
   "execution_count": 28,
   "id": "49d7dbb6",
   "metadata": {},
   "outputs": [
    {
     "data": {
      "text/html": [
       "<div>\n",
       "<style scoped>\n",
       "    .dataframe tbody tr th:only-of-type {\n",
       "        vertical-align: middle;\n",
       "    }\n",
       "\n",
       "    .dataframe tbody tr th {\n",
       "        vertical-align: top;\n",
       "    }\n",
       "\n",
       "    .dataframe thead th {\n",
       "        text-align: right;\n",
       "    }\n",
       "</style>\n",
       "<table border=\"1\" class=\"dataframe\">\n",
       "  <thead>\n",
       "    <tr style=\"text-align: right;\">\n",
       "      <th></th>\n",
       "      <th>sentimento</th>\n",
       "    </tr>\n",
       "  </thead>\n",
       "  <tbody>\n",
       "    <tr>\n",
       "      <th>611</th>\n",
       "      <td>0</td>\n",
       "    </tr>\n",
       "    <tr>\n",
       "      <th>447</th>\n",
       "      <td>0</td>\n",
       "    </tr>\n",
       "    <tr>\n",
       "      <th>964</th>\n",
       "      <td>0</td>\n",
       "    </tr>\n",
       "    <tr>\n",
       "      <th>338</th>\n",
       "      <td>0</td>\n",
       "    </tr>\n",
       "    <tr>\n",
       "      <th>1401</th>\n",
       "      <td>1</td>\n",
       "    </tr>\n",
       "  </tbody>\n",
       "</table>\n",
       "</div>"
      ],
      "text/plain": [
       "      sentimento\n",
       "611            0\n",
       "447            0\n",
       "964            0\n",
       "338            0\n",
       "1401           1"
      ]
     },
     "execution_count": 28,
     "metadata": {},
     "output_type": "execute_result"
    }
   ],
   "source": [
    "y_train.head()"
   ]
  },
  {
   "cell_type": "markdown",
   "id": "e1774d54",
   "metadata": {},
   "source": [
    "# Feature Scaling - Padronização de Valores\n",
    "\n",
    "Utilizamos a padronização de valores quando temos valores muitos descrepetantes. Desta forma, os valores são transformados em um intervalo de -3 a 3.\n",
    "\n",
    "*Obs*: caso os valores já estiveram no intervalo de -3 a 3 não será necessário padronizalos."
   ]
  },
  {
   "cell_type": "code",
   "execution_count": 29,
   "id": "e140fe8d",
   "metadata": {},
   "outputs": [],
   "source": [
    "dados_num = X_train.loc[:,['tempo_reclamacao']]\n",
    "scraler = StandardScaler()\n",
    "X_train['tempo_reclamacao'] = StandardScaler().fit_transform(dados_num)"
   ]
  },
  {
   "cell_type": "code",
   "execution_count": 30,
   "id": "cff22b35",
   "metadata": {},
   "outputs": [
    {
     "data": {
      "text/html": [
       "<div>\n",
       "<style scoped>\n",
       "    .dataframe tbody tr th:only-of-type {\n",
       "        vertical-align: middle;\n",
       "    }\n",
       "\n",
       "    .dataframe tbody tr th {\n",
       "        vertical-align: top;\n",
       "    }\n",
       "\n",
       "    .dataframe thead th {\n",
       "        text-align: right;\n",
       "    }\n",
       "</style>\n",
       "<table border=\"1\" class=\"dataframe\">\n",
       "  <thead>\n",
       "    <tr style=\"text-align: right;\">\n",
       "      <th></th>\n",
       "      <th>tempo_reclamacao</th>\n",
       "      <th>status</th>\n",
       "      <th>token_positivo</th>\n",
       "      <th>token_negativo</th>\n",
       "    </tr>\n",
       "  </thead>\n",
       "  <tbody>\n",
       "    <tr>\n",
       "      <th>611</th>\n",
       "      <td>-0.188394</td>\n",
       "      <td>0</td>\n",
       "      <td>0</td>\n",
       "      <td>1</td>\n",
       "    </tr>\n",
       "    <tr>\n",
       "      <th>447</th>\n",
       "      <td>1.536665</td>\n",
       "      <td>0</td>\n",
       "      <td>0</td>\n",
       "      <td>0</td>\n",
       "    </tr>\n",
       "    <tr>\n",
       "      <th>964</th>\n",
       "      <td>2.531891</td>\n",
       "      <td>0</td>\n",
       "      <td>1</td>\n",
       "      <td>1</td>\n",
       "    </tr>\n",
       "    <tr>\n",
       "      <th>338</th>\n",
       "      <td>-1.050923</td>\n",
       "      <td>1</td>\n",
       "      <td>0</td>\n",
       "      <td>0</td>\n",
       "    </tr>\n",
       "    <tr>\n",
       "      <th>1401</th>\n",
       "      <td>1.603013</td>\n",
       "      <td>1</td>\n",
       "      <td>0</td>\n",
       "      <td>0</td>\n",
       "    </tr>\n",
       "  </tbody>\n",
       "</table>\n",
       "</div>"
      ],
      "text/plain": [
       "      tempo_reclamacao  status  token_positivo  token_negativo\n",
       "611          -0.188394       0               0               1\n",
       "447           1.536665       0               0               0\n",
       "964           2.531891       0               1               1\n",
       "338          -1.050923       1               0               0\n",
       "1401          1.603013       1               0               0"
      ]
     },
     "execution_count": 30,
     "metadata": {},
     "output_type": "execute_result"
    }
   ],
   "source": [
    "X_train.head()"
   ]
  },
  {
   "cell_type": "markdown",
   "id": "dbb930f1-759e-404e-9323-1756392f9120",
   "metadata": {},
   "source": [
    "# Balanceamento"
   ]
  },
  {
   "cell_type": "code",
   "execution_count": 31,
   "id": "7055dd17-3070-424c-9d28-04f548614c3f",
   "metadata": {},
   "outputs": [],
   "source": [
    "# Aplicando o metodo SMOTE\n",
    "os = SMOTE(random_state=0)\n",
    "\n",
    "# modelando em cima dos dados de treino\n",
    "os_data_X,os_data_y= os.fit_resample(X_train, y_train)"
   ]
  },
  {
   "cell_type": "code",
   "execution_count": 32,
   "id": "a16c2dd8-eb42-4604-815e-99baec13549e",
   "metadata": {},
   "outputs": [
    {
     "name": "stdout",
     "output_type": "stream",
     "text": [
      "Tamanho da Amostra final:  1408\n",
      "Quantidade de sentimentos negativos 704\n",
      "Quantidade de sentimentos positivos 704\n",
      "Proporcao de sentimentos negativos 0.5\n",
      "Proporcao de sentimentos positivos 0.5\n"
     ]
    }
   ],
   "source": [
    "print(\"Tamanho da Amostra final: \",len(os_data_X))\n",
    "print(\"Quantidade de sentimentos negativos\", len(os_data_y[os_data_y['sentimento']==0]))\n",
    "print(\"Quantidade de sentimentos positivos\", len(os_data_y[os_data_y['sentimento']==1]))\n",
    "print(\"Proporcao de sentimentos negativos\",len(os_data_y[os_data_y['sentimento']==0])/len(os_data_X))\n",
    "print(\"Proporcao de sentimentos positivos\",len(os_data_y[os_data_y['sentimento']==1])/len(os_data_X))"
   ]
  },
  {
   "cell_type": "markdown",
   "id": "7547c263-8300-46b3-9fe4-0370819380c1",
   "metadata": {},
   "source": [
    "# Train - Model 1"
   ]
  },
  {
   "cell_type": "markdown",
   "id": "85fa4d2a",
   "metadata": {
    "tags": []
   },
   "source": [
    "## Random Forest Classifiers\n"
   ]
  },
  {
   "cell_type": "code",
   "execution_count": 33,
   "id": "ee66cfcd",
   "metadata": {},
   "outputs": [
    {
     "name": "stderr",
     "output_type": "stream",
     "text": [
      "/tmp/ipykernel_15545/4100362438.py:3: DataConversionWarning: A column-vector y was passed when a 1d array was expected. Please change the shape of y to (n_samples,), for example using ravel().\n",
      "  rfreg.fit(X, y);\n"
     ]
    }
   ],
   "source": [
    "from sklearn.ensemble import RandomForestClassifier\n",
    "rfreg = RandomForestClassifier(n_estimators= 10, random_state=1)\n",
    "rfreg.fit(X, y);"
   ]
  },
  {
   "cell_type": "code",
   "execution_count": 34,
   "id": "9b0f9728",
   "metadata": {},
   "outputs": [
    {
     "name": "stdout",
     "output_type": "stream",
     "text": [
      "Accuracy of random forest regression classifier on test set: 0.8696\n"
     ]
    }
   ],
   "source": [
    "y_pred = rfreg.predict(X_test)\n",
    "print('Accuracy of random forest regression classifier on test set: {:.4f}'.format(rfreg.score(X_test, y_test)))"
   ]
  },
  {
   "cell_type": "code",
   "execution_count": 35,
   "id": "0e78b593",
   "metadata": {},
   "outputs": [
    {
     "data": {
      "image/png": "[encoded data removed]",
      "text/plain": [
       "<Figure size 640x480 with 1 Axes>"
      ]
     },
     "metadata": {},
     "output_type": "display_data"
    }
   ],
   "source": [
    "matriz_confusao = confusion_matrix(y_test, y_pred)\n",
    "\n",
    "from mlxtend.plotting import plot_confusion_matrix\n",
    "\n",
    "fig, ax = plot_confusion_matrix(conf_mat=matriz_confusao, cmap='cool')\n",
    "plt.show()"
   ]
  },
  {
   "cell_type": "code",
   "execution_count": 36,
   "id": "f72c6b18",
   "metadata": {},
   "outputs": [
    {
     "data": {
      "image/png": "[encoded data removed]",
      "text/plain": [
       "<Figure size 640x480 with 1 Axes>"
      ]
     },
     "metadata": {},
     "output_type": "display_data"
    }
   ],
   "source": [
    "logit_roc_auc = roc_auc_score(y_test, rfreg.predict(X_test))\n",
    "fpr, tpr, thresholds = roc_curve(y_test, rfreg.predict_proba(X_test)[:,1])\n",
    "plt.figure()\n",
    "plt.plot(fpr, tpr, label='Random Florest (area = %0.2f )' % logit_roc_auc)\n",
    "plt.plot([0, 1], [0, 1],'r--')\n",
    "plt.xlim([0.0, 1.0])\n",
    "plt.ylim([0.0, 1.05])\n",
    "plt.xlabel('False Positive Rate')\n",
    "plt.ylabel('True Positive Rate')\n",
    "plt.title('Receiver operating characteristic')\n",
    "plt.legend(loc=\"lower right\")\n",
    "plt.show()"
   ]
  },
  {
   "cell_type": "code",
   "execution_count": 37,
   "id": "28979a05",
   "metadata": {},
   "outputs": [
    {
     "name": "stdout",
     "output_type": "stream",
     "text": [
      "\n",
      "Precision\n",
      " 0.6831683168316832\n",
      "\n",
      "Recall\n",
      " 0.8414634146341463\n",
      "\n",
      "F1\n",
      " 0.7540983606557378\n",
      "\n",
      "AUCROC\n",
      " 0.8598952054159323\n"
     ]
    }
   ],
   "source": [
    "print('\\nPrecision\\n', metrics.precision_score(y_test, y_pred)) \n",
    "print('\\nRecall\\n', metrics.recall_score(y_test, y_pred)) \n",
    "print('\\nF1\\n', metrics.f1_score(y_test, y_pred)) \n",
    "print('\\nAUCROC\\n', metrics.roc_auc_score(y_test, y_pred))"
   ]
  },
  {
   "attachments": {},
   "cell_type": "markdown",
   "id": "b4e12158",
   "metadata": {},
   "source": [
    "### Gread Search"
   ]
  },
  {
   "cell_type": "code",
   "execution_count": 38,
   "id": "0804b7d3",
   "metadata": {},
   "outputs": [
    {
     "name": "stdout",
     "output_type": "stream",
     "text": [
      "0.7498326130590609\n",
      "{'randomforestclassifier__max_depth': 2, 'randomforestclassifier__max_features': 3}\n",
      "Test accuracy: 0.759\n"
     ]
    }
   ],
   "source": [
    "pipelineRFC = make_pipeline(RandomForestClassifier(random_state=1))\n",
    "#\n",
    "# Create the parameter grid\n",
    "#\n",
    "param_grid_rfc = [{\n",
    "    'randomforestclassifier__max_depth':[2, 3, 4],\n",
    "    'randomforestclassifier__max_features':[2, 3, 4, 5, 6]\n",
    "}]\n",
    "#\n",
    "# Create an instance of GridSearch Cross-validation estimator\n",
    "#\n",
    "gsRFC = GridSearchCV(estimator=pipelineRFC,\n",
    "                     param_grid = param_grid_rfc,\n",
    "                     scoring='f1',\n",
    "                     cv=10,\n",
    "                     refit=True,\n",
    "                     n_jobs=1)\n",
    "#\n",
    "# Train the RandomForestClassifier\n",
    "#\n",
    "gsRFC = gsRFC.fit(X_train, y_train.values.ravel())\n",
    "#\n",
    "# Print the training score of the best model\n",
    "#\n",
    "print(gsRFC.best_score_)\n",
    "#\n",
    "# Print the model parameters of the best model\n",
    "#\n",
    "print(gsRFC.best_params_)\n",
    "#\n",
    "# Print the test score of the best model\n",
    "#\n",
    "clfRFC = gsRFC.best_estimator_\n",
    "print('Test accuracy: %.3f' % clfRFC.score(X_test, y_test))"
   ]
  },
  {
   "cell_type": "code",
   "execution_count": 39,
   "id": "d254c9ff",
   "metadata": {},
   "outputs": [],
   "source": [
    "y_pred = gsRFC.predict(X_test)"
   ]
  },
  {
   "cell_type": "code",
   "execution_count": 40,
   "id": "87d6d36a",
   "metadata": {},
   "outputs": [
    {
     "data": {
      "image/png": "[encoded data removed]",
      "text/plain": [
       "<Figure size 640x480 with 1 Axes>"
      ]
     },
     "metadata": {},
     "output_type": "display_data"
    }
   ],
   "source": [
    "logit_roc_auc = roc_auc_score(y_test, gsRFC.predict(X_test))\n",
    "fpr, tpr, thresholds = roc_curve(y_test, gsRFC.predict_proba(X_test)[:,1])\n",
    "plt.figure()\n",
    "plt.plot(fpr, tpr, label='Random Florest (area = %0.2f )' % logit_roc_auc)\n",
    "plt.plot([0, 1], [0, 1],'r--')\n",
    "plt.xlim([0.0, 1.0])\n",
    "plt.ylim([0.0, 1.05])\n",
    "plt.xlabel('False Positive Rate')\n",
    "plt.ylabel('True Positive Rate')\n",
    "plt.title('Receiver operating characteristic')\n",
    "plt.legend(loc=\"lower right\")\n",
    "plt.show()"
   ]
  },
  {
   "cell_type": "code",
   "execution_count": 41,
   "id": "0e44e131",
   "metadata": {},
   "outputs": [
    {
     "name": "stdout",
     "output_type": "stream",
     "text": [
      "\n",
      "Precision\n",
      " 0.49693251533742333\n",
      "\n",
      "Recall\n",
      " 0.9878048780487805\n",
      "\n",
      "F1\n",
      " 0.6612244897959184\n",
      "\n",
      "AUCROC\n",
      " 0.8380089029027172\n"
     ]
    }
   ],
   "source": [
    "print('\\nPrecision\\n', metrics.precision_score(y_test, y_pred)) \n",
    "print('\\nRecall\\n', metrics.recall_score(y_test, y_pred)) \n",
    "print('\\nF1\\n', metrics.f1_score(y_test, y_pred)) \n",
    "print('\\nAUCROC\\n', metrics.roc_auc_score(y_test, y_pred))"
   ]
  }
 ],
 "metadata": {
  "kernelspec": {
   "display_name": "reclameaqui",
   "language": "python",
   "name": "python3"
  },
  "language_info": {
   "codemirror_mode": {
    "name": "ipython",
    "version": 3
   },
   "file_extension": ".py",
   "mimetype": "text/x-python",
   "name": "python",
   "nbconvert_exporter": "python",
   "pygments_lexer": "ipython3",
   "version": "3.11.1 (main, Jan 18 2023, 21:11:47) [GCC 11.3.0]"
  },
  "vscode": {
   "interpreter": {
    "hash": "d8fbcc83a4cc2c6916a5c9f914f790b1f831578b86032a58aae9439eeee09239"
   }
  }
 },
 "nbformat": 4,
 "nbformat_minor": 5
}
